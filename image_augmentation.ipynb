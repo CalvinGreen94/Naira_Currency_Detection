{
 "cells": [
  {
   "cell_type": "code",
   "execution_count": 17,
   "metadata": {
    "ExecuteTime": {
     "end_time": "2020-08-14T16:32:59.980248Z",
     "start_time": "2020-08-14T16:29:46.718370Z"
    }
   },
   "outputs": [
    {
     "name": "stdout",
     "output_type": "stream",
     "text": [
      "Found 1100 images belonging to 12 classes.\n",
      "Found 2148 images belonging to 12 classes.\n"
     ]
    },
    {
     "ename": "FileNotFoundError",
     "evalue": "[Errno 2] No such file or directory: 'Naira_Model_Dataset/train/train/aug\\\\aug_0_1879710.jpg'",
     "output_type": "error",
     "traceback": [
      "\u001b[1;31m---------------------------------------------------------------------------\u001b[0m",
      "\u001b[1;31mFileNotFoundError\u001b[0m                         Traceback (most recent call last)",
      "\u001b[1;32m<ipython-input-17-84c1b58e044c>\u001b[0m in \u001b[0;36m<module>\u001b[1;34m()\u001b[0m\n\u001b[0;32m     81\u001b[0m                                                         dtype=None,)\n\u001b[0;32m     82\u001b[0m \u001b[0mimage\u001b[0m \u001b[1;33m=\u001b[0m \u001b[0mdataset\u001b[0m\u001b[1;33m.\u001b[0m\u001b[0mflow_from_directory\u001b[0m\u001b[1;33m(\u001b[0m\u001b[1;34m'Naira_Model_Dataset/train/train/'\u001b[0m\u001b[1;33m,\u001b[0m\u001b[0mshuffle\u001b[0m\u001b[1;33m=\u001b[0m\u001b[1;32mFalse\u001b[0m\u001b[1;33m,\u001b[0m\u001b[0mtarget_size\u001b[0m\u001b[1;33m=\u001b[0m\u001b[1;33m(\u001b[0m\u001b[1;36m255\u001b[0m\u001b[1;33m,\u001b[0m\u001b[1;36m255\u001b[0m\u001b[1;33m)\u001b[0m\u001b[1;33m,\u001b[0m\u001b[0msave_to_dir\u001b[0m\u001b[1;33m=\u001b[0m\u001b[1;34m'Naira_Model_Dataset/train/train/aug3'\u001b[0m\u001b[1;33m,\u001b[0m\u001b[0mclass_mode\u001b[0m\u001b[1;33m=\u001b[0m\u001b[1;34m'categorical'\u001b[0m\u001b[1;33m,\u001b[0m\u001b[0msave_prefix\u001b[0m\u001b[1;33m=\u001b[0m\u001b[1;34m'aug3'\u001b[0m\u001b[1;33m,\u001b[0m\u001b[0msave_format\u001b[0m\u001b[1;33m=\u001b[0m\u001b[1;34m'jpg'\u001b[0m\u001b[1;33m,\u001b[0m\u001b[0mbatch_size\u001b[0m\u001b[1;33m=\u001b[0m\u001b[1;36m1000\u001b[0m\u001b[1;33m)\u001b[0m\u001b[1;33m\u001b[0m\u001b[1;33m\u001b[0m\u001b[0m\n\u001b[1;32m---> 83\u001b[1;33m \u001b[0mimage\u001b[0m\u001b[1;33m.\u001b[0m\u001b[0mnext\u001b[0m\u001b[1;33m(\u001b[0m\u001b[1;33m)\u001b[0m\u001b[1;33m\u001b[0m\u001b[1;33m\u001b[0m\u001b[0m\n\u001b[0m",
      "\u001b[1;32mC:\\Users\\peace\\Anaconda3_2\\lib\\site-packages\\keras_preprocessing\\image\\iterator.py\u001b[0m in \u001b[0;36mnext\u001b[1;34m(self)\u001b[0m\n\u001b[0;32m    114\u001b[0m         \u001b[1;31m# The transformation of images is not under thread lock\u001b[0m\u001b[1;33m\u001b[0m\u001b[1;33m\u001b[0m\u001b[1;33m\u001b[0m\u001b[0m\n\u001b[0;32m    115\u001b[0m         \u001b[1;31m# so it can be done in parallel\u001b[0m\u001b[1;33m\u001b[0m\u001b[1;33m\u001b[0m\u001b[1;33m\u001b[0m\u001b[0m\n\u001b[1;32m--> 116\u001b[1;33m         \u001b[1;32mreturn\u001b[0m \u001b[0mself\u001b[0m\u001b[1;33m.\u001b[0m\u001b[0m_get_batches_of_transformed_samples\u001b[0m\u001b[1;33m(\u001b[0m\u001b[0mindex_array\u001b[0m\u001b[1;33m)\u001b[0m\u001b[1;33m\u001b[0m\u001b[1;33m\u001b[0m\u001b[0m\n\u001b[0m\u001b[0;32m    117\u001b[0m \u001b[1;33m\u001b[0m\u001b[0m\n\u001b[0;32m    118\u001b[0m     \u001b[1;32mdef\u001b[0m \u001b[0m_get_batches_of_transformed_samples\u001b[0m\u001b[1;33m(\u001b[0m\u001b[0mself\u001b[0m\u001b[1;33m,\u001b[0m \u001b[0mindex_array\u001b[0m\u001b[1;33m)\u001b[0m\u001b[1;33m:\u001b[0m\u001b[1;33m\u001b[0m\u001b[1;33m\u001b[0m\u001b[0m\n",
      "\u001b[1;32mC:\\Users\\peace\\Anaconda3_2\\lib\\site-packages\\keras_preprocessing\\image\\iterator.py\u001b[0m in \u001b[0;36m_get_batches_of_transformed_samples\u001b[1;34m(self, index_array)\u001b[0m\n\u001b[0;32m    228\u001b[0m                            \u001b[0mcolor_mode\u001b[0m\u001b[1;33m=\u001b[0m\u001b[0mself\u001b[0m\u001b[1;33m.\u001b[0m\u001b[0mcolor_mode\u001b[0m\u001b[1;33m,\u001b[0m\u001b[1;33m\u001b[0m\u001b[1;33m\u001b[0m\u001b[0m\n\u001b[0;32m    229\u001b[0m                            \u001b[0mtarget_size\u001b[0m\u001b[1;33m=\u001b[0m\u001b[0mself\u001b[0m\u001b[1;33m.\u001b[0m\u001b[0mtarget_size\u001b[0m\u001b[1;33m,\u001b[0m\u001b[1;33m\u001b[0m\u001b[1;33m\u001b[0m\u001b[0m\n\u001b[1;32m--> 230\u001b[1;33m                            interpolation=self.interpolation)\n\u001b[0m\u001b[0;32m    231\u001b[0m             \u001b[0mx\u001b[0m \u001b[1;33m=\u001b[0m \u001b[0mimg_to_array\u001b[0m\u001b[1;33m(\u001b[0m\u001b[0mimg\u001b[0m\u001b[1;33m,\u001b[0m \u001b[0mdata_format\u001b[0m\u001b[1;33m=\u001b[0m\u001b[0mself\u001b[0m\u001b[1;33m.\u001b[0m\u001b[0mdata_format\u001b[0m\u001b[1;33m)\u001b[0m\u001b[1;33m\u001b[0m\u001b[1;33m\u001b[0m\u001b[0m\n\u001b[0;32m    232\u001b[0m             \u001b[1;31m# Pillow images should be closed after `load_img`,\u001b[0m\u001b[1;33m\u001b[0m\u001b[1;33m\u001b[0m\u001b[1;33m\u001b[0m\u001b[0m\n",
      "\u001b[1;32mC:\\Users\\peace\\Anaconda3_2\\lib\\site-packages\\keras_preprocessing\\image\\utils.py\u001b[0m in \u001b[0;36mload_img\u001b[1;34m(path, grayscale, color_mode, target_size, interpolation)\u001b[0m\n\u001b[0;32m    108\u001b[0m         raise ImportError('Could not import PIL.Image. '\n\u001b[0;32m    109\u001b[0m                           'The use of `load_img` requires PIL.')\n\u001b[1;32m--> 110\u001b[1;33m     \u001b[0mimg\u001b[0m \u001b[1;33m=\u001b[0m \u001b[0mpil_image\u001b[0m\u001b[1;33m.\u001b[0m\u001b[0mopen\u001b[0m\u001b[1;33m(\u001b[0m\u001b[0mpath\u001b[0m\u001b[1;33m)\u001b[0m\u001b[1;33m\u001b[0m\u001b[1;33m\u001b[0m\u001b[0m\n\u001b[0m\u001b[0;32m    111\u001b[0m     \u001b[1;32mif\u001b[0m \u001b[0mcolor_mode\u001b[0m \u001b[1;33m==\u001b[0m \u001b[1;34m'grayscale'\u001b[0m\u001b[1;33m:\u001b[0m\u001b[1;33m\u001b[0m\u001b[1;33m\u001b[0m\u001b[0m\n\u001b[0;32m    112\u001b[0m         \u001b[1;32mif\u001b[0m \u001b[0mimg\u001b[0m\u001b[1;33m.\u001b[0m\u001b[0mmode\u001b[0m \u001b[1;33m!=\u001b[0m \u001b[1;34m'L'\u001b[0m\u001b[1;33m:\u001b[0m\u001b[1;33m\u001b[0m\u001b[1;33m\u001b[0m\u001b[0m\n",
      "\u001b[1;32mC:\\Users\\peace\\Anaconda3_2\\lib\\site-packages\\PIL\\Image.py\u001b[0m in \u001b[0;36mopen\u001b[1;34m(fp, mode)\u001b[0m\n\u001b[0;32m   2632\u001b[0m \u001b[1;33m\u001b[0m\u001b[0m\n\u001b[0;32m   2633\u001b[0m     \u001b[1;32mif\u001b[0m \u001b[0mfilename\u001b[0m\u001b[1;33m:\u001b[0m\u001b[1;33m\u001b[0m\u001b[1;33m\u001b[0m\u001b[0m\n\u001b[1;32m-> 2634\u001b[1;33m         \u001b[0mfp\u001b[0m \u001b[1;33m=\u001b[0m \u001b[0mbuiltins\u001b[0m\u001b[1;33m.\u001b[0m\u001b[0mopen\u001b[0m\u001b[1;33m(\u001b[0m\u001b[0mfilename\u001b[0m\u001b[1;33m,\u001b[0m \u001b[1;34m\"rb\"\u001b[0m\u001b[1;33m)\u001b[0m\u001b[1;33m\u001b[0m\u001b[1;33m\u001b[0m\u001b[0m\n\u001b[0m\u001b[0;32m   2635\u001b[0m         \u001b[0mexclusive_fp\u001b[0m \u001b[1;33m=\u001b[0m \u001b[1;32mTrue\u001b[0m\u001b[1;33m\u001b[0m\u001b[1;33m\u001b[0m\u001b[0m\n\u001b[0;32m   2636\u001b[0m \u001b[1;33m\u001b[0m\u001b[0m\n",
      "\u001b[1;31mFileNotFoundError\u001b[0m: [Errno 2] No such file or directory: 'Naira_Model_Dataset/train/train/aug\\\\aug_0_1879710.jpg'"
     ]
    }
   ],
   "source": [
    "from keras.preprocessing.image import ImageDataGenerator, array_to_img, img_to_array, load_img\n",
    "\n",
    "\n",
    "batch_size = 2000\n",
    "# dataset = keras.preprocessing.image.ImageDataGenerator(rotation_range=3,\n",
    "#                                                         width_shift_range=0.0025,\n",
    "#                                                         height_shift_range=0.025,\n",
    "#                                                         brightness_range=None,\n",
    "#                                                         shear_range=0.01,\n",
    "#                                                         zoom_range=0.025,\n",
    "#                                                         channel_shift_range=0.0,\n",
    "#                                                         fill_mode=\"nearest\",\n",
    "#                                                         cval=0.0,\n",
    "#                                                         horizontal_flip=True,\n",
    "#                                                         vertical_flip=True,\n",
    "#                                                         rescale= 1./255,\n",
    "#                                                         preprocessing_function=None,\n",
    "#                                                         data_format=None,\n",
    "#                                                         validation_split=0.25,\n",
    "#                                                         dtype=None,\n",
    "#                                                         )\n",
    "\n",
    "# image = dataset.flow_from_directory('Naira_Model_Dataset/train/train/',shuffle=False,target_size=(255,255),save_to_dir='Naira_Model_Dataset/train/train/aug',class_mode='categorical',save_prefix='aug',save_format='jpg',batch_size=1000)\n",
    "# image.next()\n",
    "\n",
    "# dataset = keras.preprocessing.image.ImageDataGenerator(rotation_range=45,\n",
    "#                                                         width_shift_range=0.005,\n",
    "#                                                         height_shift_range=0.015,\n",
    "#                                                         brightness_range=None,\n",
    "#                                                         shear_range=0.09,\n",
    "#                                                         zoom_range=0.145,\n",
    "#                                                         channel_shift_range=0.0,\n",
    "#                                                         fill_mode=\"constant\",\n",
    "#                                                         cval=0.0,\n",
    "#                                                         horizontal_flip=True,\n",
    "#                                                         vertical_flip=True,\n",
    "#                                                         rescale= 1./255,\n",
    "#                                                         preprocessing_function=None,\n",
    "#                                                         data_format=None,\n",
    "#                                                         validation_split=0.25,\n",
    "#                                                         dtype=None,)\n",
    "# image = dataset.flow_from_directory('Naira_Model_Dataset/train/train/',shuffle=False,target_size=(255,255),save_to_dir='Naira_Model_Dataset/train/train/aug1',class_mode='categorical',save_prefix='aug1',save_format='jpg',batch_size=1000)\n",
    "# image.next()\n",
    "\n",
    "dataset = keras.preprocessing.image.ImageDataGenerator(samplewise_std_normalization=False,\n",
    "                                                        rotation_range=90,\n",
    "                                                        width_shift_range=0.0045,\n",
    "                                                        height_shift_range=0.015,\n",
    "                                                        brightness_range=None,\n",
    "                                                        shear_range=0.02,\n",
    "                                                        zoom_range=0.2400,\n",
    "                                                        channel_shift_range=0.0,\n",
    "                                                        fill_mode=\"nearest\",\n",
    "                                                        cval=0.0,\n",
    "                                                        horizontal_flip=True,\n",
    "                                                        vertical_flip=True,\n",
    "                                                        rescale= 1./255,\n",
    "                                                        preprocessing_function=None,\n",
    "                                                        data_format=None,\n",
    "                                                        validation_split=0.25,\n",
    "                                                        dtype=None,)\n",
    "image = dataset.flow_from_directory('Naira_Model_Dataset/train/train/',shuffle=False,target_size=(255,255),save_to_dir='Naira_Model_Dataset/train/train/aug2',class_mode='categorical',save_prefix='aug2',save_format='jpg',batch_size=1000)\n",
    "image.next()\n",
    "\n",
    "dataset = keras.preprocessing.image.ImageDataGenerator(samplewise_std_normalization=False,\n",
    "                                                        rotation_range=180,\n",
    "                                                        width_shift_range=0.015,\n",
    "                                                        height_shift_range=0.015,\n",
    "                                                        brightness_range=None,\n",
    "                                                        shear_range=0.0125,\n",
    "                                                        zoom_range=0.7500,\n",
    "                                                        channel_shift_range=0.0,\n",
    "                                                        fill_mode=\"constant\",\n",
    "                                                        cval=0.0,\n",
    "                                                        horizontal_flip=True,\n",
    "                                                        vertical_flip=True,\n",
    "                                                        rescale= 1./255,\n",
    "                                                        preprocessing_function=None,\n",
    "                                                        data_format=None,\n",
    "                                                        validation_split=0.25,\n",
    "                                                        dtype=None,)\n",
    "image = dataset.flow_from_directory('Naira_Model_Dataset/train/train/',shuffle=False,target_size=(255,255),save_to_dir='Naira_Model_Dataset/train/train/aug3',class_mode='categorical',save_prefix='aug3',save_format='jpg',batch_size=1000)\n",
    "image.next()"
   ]
  },
  {
   "cell_type": "code",
   "execution_count": null,
   "metadata": {},
   "outputs": [],
   "source": []
  }
 ],
 "metadata": {
  "kernelspec": {
   "display_name": "Python 3",
   "language": "python",
   "name": "python3"
  },
  "language_info": {
   "codemirror_mode": {
    "name": "ipython",
    "version": 3
   },
   "file_extension": ".py",
   "mimetype": "text/x-python",
   "name": "python",
   "nbconvert_exporter": "python",
   "pygments_lexer": "ipython3",
   "version": "3.7.3"
  },
  "latex_envs": {
   "LaTeX_envs_menu_present": true,
   "autoclose": false,
   "autocomplete": true,
   "bibliofile": "biblio.bib",
   "cite_by": "apalike",
   "current_citInitial": 1,
   "eqLabelWithNumbers": true,
   "eqNumInitial": 1,
   "hotkeys": {
    "equation": "Ctrl-E",
    "itemize": "Ctrl-I"
   },
   "labels_anchors": false,
   "latex_user_defs": false,
   "report_style_numbering": true,
   "user_envs_cfg": false
  }
 },
 "nbformat": 4,
 "nbformat_minor": 2
}
