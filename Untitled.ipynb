{
 "cells": [
  {
   "cell_type": "code",
   "execution_count": null,
   "metadata": {},
   "outputs": [],
   "source": [
    "# batch_size = 16\n",
    "\n",
    "# generator = datagen.flow_from_directory(\n",
    "#         'data/train',\n",
    "#         target_size=(150, 150),\n",
    "#         batch_size=batch_size,\n",
    "#         class_mode=None,  # this means our generator will only yield batches of data, no labels\n",
    "#         shuffle=False)  # our data will be in order, so all first 1000 images will be cats, then 1000 dogs\n",
    "# # the predict_generator method returns the output of a model, given\n",
    "# # a generator that yields batches of numpy data\n",
    "# bottleneck_features_train = model.predict_generator(generator, 2000)\n",
    "# # save the output as a Numpy array\n",
    "# np.save(open('bottleneck_features_train.npy', 'w'), bottleneck_features_train)\n",
    "\n",
    "# generator = datagen.flow_from_directory(\n",
    "#         'data/validation',\n",
    "#         target_size=(150, 150),\n",
    "#         batch_size=batch_size,\n",
    "#         class_mode=None,\n",
    "#         shuffle=False)\n",
    "# bottleneck_features_validation = model.predict_generator(generator, 800)\n",
    "# np.save(open('bottleneck_features_validation.npy', 'w'), bottleneck_features_validation)\n",
    "\n",
    "# e can then load our saved data and train a small fully-connected model:\n",
    "\n",
    "# train_data = np.load(open('bottleneck_features_train.npy'))\n",
    "# # the features were saved in order, so recreating the labels is easy\n",
    "# train_labels = np.array([0] * 1000 + [1] * 1000)\n",
    "\n",
    "# validation_data = np.load(open('bottleneck_features_validation.npy'))\n",
    "# validation_labels = np.array([0] * 400 + [1] * 400)\n",
    "\n",
    "# model = Sequential()\n",
    "# model.add(Flatten(input_shape=train_data.shape[1:]))\n",
    "# model.add(Dense(256, activation='relu'))\n",
    "# model.add(Dropout(0.5))\n",
    "# model.add(Dense(1, activation='sigmoid'))\n",
    "\n",
    "# model.compile(optimizer='rmsprop',\n",
    "#               loss='binary_crossentropy',\n",
    "#               metrics=['accuracy'])\n",
    "\n",
    "# model.fit(train_data, train_labels,\n",
    "#           epochs=50,\n",
    "#           batch_size=batch_size,\n",
    "#           validation_data=(validation_data, validation_labels))\n",
    "# model.save_weights('bottleneck_fc_model.h5')"
   ]
  }
 ],
 "metadata": {
  "kernelspec": {
   "display_name": "Python 3",
   "language": "python",
   "name": "python3"
  },
  "language_info": {
   "codemirror_mode": {
    "name": "ipython",
    "version": 3
   },
   "file_extension": ".py",
   "mimetype": "text/x-python",
   "name": "python",
   "nbconvert_exporter": "python",
   "pygments_lexer": "ipython3",
   "version": "3.7.3"
  },
  "latex_envs": {
   "LaTeX_envs_menu_present": true,
   "autoclose": false,
   "autocomplete": true,
   "bibliofile": "biblio.bib",
   "cite_by": "apalike",
   "current_citInitial": 1,
   "eqLabelWithNumbers": true,
   "eqNumInitial": 1,
   "hotkeys": {
    "equation": "Ctrl-E",
    "itemize": "Ctrl-I"
   },
   "labels_anchors": false,
   "latex_user_defs": false,
   "report_style_numbering": true,
   "user_envs_cfg": false
  }
 },
 "nbformat": 4,
 "nbformat_minor": 2
}
